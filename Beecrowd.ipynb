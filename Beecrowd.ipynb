{
  "nbformat": 4,
  "nbformat_minor": 0,
  "metadata": {
    "colab": {
      "provenance": [],
      "authorship_tag": "ABX9TyNEYMsBDyxTwJA8Y/PERiYh",
      "include_colab_link": true
    },
    "kernelspec": {
      "name": "python3",
      "display_name": "Python 3"
    },
    "language_info": {
      "name": "python"
    }
  },
  "cells": [
    {
      "cell_type": "markdown",
      "metadata": {
        "id": "view-in-github",
        "colab_type": "text"
      },
      "source": [
        "<a href=\"https://colab.research.google.com/github/cl4udi4S4nt/cl4udi4S4nt/blob/main/Beecrowd.ipynb\" target=\"_parent\"><img src=\"https://colab.research.google.com/assets/colab-badge.svg\" alt=\"Open In Colab\"/></a>"
      ]
    },
    {
      "cell_type": "code",
      "execution_count": null,
      "metadata": {
        "id": "IyO5lvh--Frv"
      },
      "outputs": [],
      "source": [
        "valores= input(). split()\n",
        "a= float(valores[0])\n",
        "b= float (valores[1])\n",
        "c= float (valores[2])\n",
        "triangulo = a * c / 2\n",
        "circulo = 3.14159 * c * c\n",
        "trapezio = (a + b)*c/ 2\n",
        "quadrado = b * b\n",
        "retangulo = a * b\n",
        "print(\"TRIANGULO: %0.3f\" %triangulo) \n",
        "print(\"CIRCULO: %0.3f\" %circulo)\n",
        "print(\"TRAPEZIO: %0.3f\" %trapezio)\n",
        "print(\"QUADRADO: %0.3f\" %quadrado)\n",
        "print(\"RETANGULO: %0.3f\" %retangulo) \n"
      ]
    },
    {
      "cell_type": "code",
      "source": [
        "valor= input().split()\n",
        "a = int(valor[0])\n",
        "b = int(valor[1])\n",
        "c = int(valor[2])\n",
        "\n",
        "resultado =  max(a,b,c)\n",
        "\n",
        "print(\"%d eh o maior\" %resultado)\n"
      ],
      "metadata": {
        "id": "5uBtrEnTLDL0"
      },
      "execution_count": null,
      "outputs": []
    },
    {
      "cell_type": "code",
      "source": [
        "x = int(input())\n",
        "y = float(input())\n",
        "consumo = x/y\n",
        "print(\"%0.3f km/l\" % consumo)"
      ],
      "metadata": {
        "id": "BTCOUiBVRcaP"
      },
      "execution_count": null,
      "outputs": []
    },
    {
      "cell_type": "code",
      "source": [
        "valor= input().split()\n",
        "valor1= input().split()\n",
        "x1 = float(valor[0])\n",
        "y1= float(valor[1])\n",
        "x2= float(valor1[0]) \n",
        "y2= float(valor1[1])\n",
        "import math\n",
        "distancia = math.sqrt(((x2 - x1)**2)+((y2 - y1)**2)) * 0.5\n",
        "print(\"%0.4f\" %result)"
      ],
      "metadata": {
        "id": "UAETNePiUVNJ"
      },
      "execution_count": null,
      "outputs": []
    },
    {
      "cell_type": "code",
      "source": [
        "p1 = input().split()\n",
        "p2 = input().split()\n",
        "\n",
        "x1 = float(p1[0])\n",
        "y1 = float(p1[1])\n",
        "\n",
        "x2 = float(p2[0])\n",
        "y2 = float(p2[1])\n",
        "\n",
        "distancia = ((x2 - x1)**2) + ((y2 - y1)**2)\n",
        "print(\"%.4f\"%distancia)"
      ],
      "metadata": {
        "id": "P1sZ8xPvrjb4"
      },
      "execution_count": null,
      "outputs": []
    },
    {
      "cell_type": "code",
      "source": [
        "X = 60\n",
        "Y = 90\n",
        "D = int(input())\n",
        "T = ((D / (Y - X)) * 60)\n",
        "print(\"%d minutos\" % T)"
      ],
      "metadata": {
        "id": "p6RZfxGw7e8O"
      },
      "execution_count": null,
      "outputs": []
    },
    {
      "cell_type": "code",
      "source": [
        "velocid= int(input())\n",
        "temp= int(input())\n",
        "LitrosGastos = (velocid * temp)/12\n",
        "print(\"%0.3f\" % LitrosGastos)"
      ],
      "metadata": {
        "id": "4GbXEE7e8XO8"
      },
      "execution_count": null,
      "outputs": []
    },
    {
      "cell_type": "code",
      "source": [
        "valor= int(input())\n",
        "ano= valor//365\n",
        "valor= valor % 365\n",
        "mes= valor // 30\n",
        "dia = valor % 30\n",
        "print(ano, 'ano(s)')\n",
        "print(mes, 'mes(es)')\n",
        "print(dia, 'dia(s)')"
      ],
      "metadata": {
        "id": "PEKhUygh4LhZ"
      },
      "execution_count": null,
      "outputs": []
    },
    {
      "cell_type": "code",
      "source": [
        "a, b, c, d=map(int, input() .split())\n",
        "if b > c and d > a and c + d > a + b and c > 0 and d > 0 and a%2==0:\n",
        "  print(\"Valores aceitos\")\n",
        "else:\n",
        "  print(\"Valores não aceitos\")"
      ],
      "metadata": {
        "id": "A6X3MfZ25Rbe"
      },
      "execution_count": null,
      "outputs": []
    },
    {
      "cell_type": "code",
      "source": [
        "x = float(input())\n",
        "if 0<= x <= 25:\n",
        "    print('Intervalo [0,25]')\n",
        "if 25< x <= 50:\n",
        "    print('Intervalo (25,50]')\n",
        "if 50< x <= 75:\n",
        "    print('Intervalo (50,75]')\n",
        "if 75< x <= 100:\n",
        "    print('Intervalo (75,100]')\n",
        "if x >100 or x<0:\n",
        "    print('Fora de intervalo')"
      ],
      "metadata": {
        "id": "epGf3R-qj--3"
      },
      "execution_count": null,
      "outputs": []
    },
    {
      "cell_type": "code",
      "source": [
        "int  codigo , quantidade \n",
        "preço duplo = 0 , total \n",
        "codigo = entrada . proximoInt ()\n",
        "quantidade = entrada . proximoInt ()\n",
        "if ( código == 1 )\n",
        "\t\t\tpreço = 4,0 \n",
        "else  if ( código == 2 ) \n",
        "\t\t\tpreço = 4,5 \n",
        "else  if ( código == 3 ) \n",
        "\t\t\tpreço = 5,0 \n",
        "else  if ( código == 4 ) \n",
        "\t\t\tpreço = 2,0 \n",
        "outra coisa \n",
        "\t\t\tpreço = 1,5 \n",
        "total = quantidade * preço ;\n",
        " print(\"Total: R$ \" + % total)"
      ],
      "metadata": {
        "id": "y3FIvYgQllOs"
      },
      "execution_count": null,
      "outputs": []
    }
  ]
}